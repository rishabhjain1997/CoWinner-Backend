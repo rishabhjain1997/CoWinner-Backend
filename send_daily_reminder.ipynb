{
 "cells": [
  {
   "cell_type": "code",
   "execution_count": 1,
   "metadata": {},
   "outputs": [],
   "source": [
    "from notification import create_user_list, send_notifications"
   ]
  },
  {
   "cell_type": "code",
   "execution_count": 2,
   "metadata": {},
   "outputs": [],
   "source": [
    "user_list = create_user_list('users/')\n",
    "message_notification = 'Hi,\\n\\nYour 24-hour session with our service is about to expire. Please send us *ok* to keep receiving alerts for the next 24 hours.\\n\\n_If you like our service, please spread the word. Tag us on FB/IG @cowinner.app_\\n\\nThank you. Stay safe!' \n",
    "notification_responses = send_notifications(user_list, message_notification)"
   ]
  }
 ],
 "metadata": {
  "kernelspec": {
   "display_name": "Python 3",
   "language": "python",
   "name": "python3"
  },
  "language_info": {
   "codemirror_mode": {
    "name": "ipython",
    "version": 3
   },
   "file_extension": ".py",
   "mimetype": "text/x-python",
   "name": "python",
   "nbconvert_exporter": "python",
   "pygments_lexer": "ipython3",
   "version": "3.8.5"
  }
 },
 "nbformat": 4,
 "nbformat_minor": 4
}
