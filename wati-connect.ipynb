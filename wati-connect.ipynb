{
 "cells": [
  {
   "cell_type": "code",
   "execution_count": 13,
   "metadata": {},
   "outputs": [],
   "source": [
    "import wati_auth \n",
    "import requests"
   ]
  },
  {
   "cell_type": "code",
   "execution_count": 14,
   "metadata": {},
   "outputs": [],
   "source": [
    "update_contact_endpoint = wati_auth.base_url + '/api/v1/updateContactAttributes/9711370362'\n",
    "add_contact_endpoint = wati_auth.base_url + '/api/v1/addContact/' + '919711370362'\n",
    "# We are only going to use send message\n",
    "send_message_endpoint = wati_auth.base_url + '/api/v1/sendSessionMessage/' + '919899599518'\n",
    "get_messages_endpoint = wati_auth.base_url + '/api/v1/getMessages/' + '919711370362'"
   ]
  },
  {
   "cell_type": "code",
   "execution_count": null,
   "metadata": {},
   "outputs": [],
   "source": [
    "add_contact_details = '{\"name\": \"Rishabh\",\"customParams\": [{\"name\": \"ID\",\"value\": \"1\" } ]}'\n"
   ]
  },
  {
   "cell_type": "code",
   "execution_count": null,
   "metadata": {},
   "outputs": [],
   "source": [
    "import requests\n",
    "\n",
    "headers = {\n",
    "    'accept': '*/*',\n",
    "    'Authorization': wati_auth.access_token,\n",
    "    'Content-Type': 'application/json-patch+json',\n",
    "}\n",
    "\n",
    "data = '{\"customParams\":[{\"name\":\"string\",\"value\":\"string\"}]}'\n",
    "\n"
   ]
  },
  {
   "cell_type": "code",
   "execution_count": null,
   "metadata": {},
   "outputs": [],
   "source": [
    "response = requests.post(update_contact_endpoint, headers=headers, data=data)\n",
    "\n",
    "response.json()"
   ]
  },
  {
   "cell_type": "code",
   "execution_count": null,
   "metadata": {},
   "outputs": [],
   "source": [
    "response = requests.post(add_contact_endpoint, headers=headers, data=add_contact_details)\n",
    "response.json()"
   ]
  },
  {
   "cell_type": "code",
   "execution_count": null,
   "metadata": {},
   "outputs": [],
   "source": [
    "response = requests.get(get_messages_endpoint, headers=headers)\n",
    "response.json()"
   ]
  },
  {
   "cell_type": "code",
   "execution_count": 15,
   "metadata": {},
   "outputs": [
    {
     "data": {
      "text/plain": [
       "{'result': False, 'info': 'Invalid Conversation'}"
      ]
     },
     "execution_count": 15,
     "metadata": {},
     "output_type": "execute_result"
    }
   ],
   "source": [
    "headers = {\n",
    "    'accept': '*/*',\n",
    "    'Authorization': wati_auth.access_token,\n",
    "    'Content-Type': 'application/json-patch+json',\n",
    "}\n",
    "\n",
    "response = requests.post(send_message_endpoint+'?messageText=Hi', headers=headers)\n",
    "\n",
    "response.json()"
   ]
  },
  {
   "cell_type": "code",
   "execution_count": null,
   "metadata": {},
   "outputs": [],
   "source": []
  }
 ],
 "metadata": {
  "kernelspec": {
   "display_name": "Python 3",
   "language": "python",
   "name": "python3"
  },
  "language_info": {
   "codemirror_mode": {
    "name": "ipython",
    "version": 3
   },
   "file_extension": ".py",
   "mimetype": "text/x-python",
   "name": "python",
   "nbconvert_exporter": "python",
   "pygments_lexer": "ipython3",
   "version": "3.8.5"
  }
 },
 "nbformat": 4,
 "nbformat_minor": 4
}
