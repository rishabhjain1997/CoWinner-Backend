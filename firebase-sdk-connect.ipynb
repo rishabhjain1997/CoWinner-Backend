{
 "cells": [
  {
   "cell_type": "code",
   "execution_count": 1,
   "metadata": {},
   "outputs": [
    {
     "data": {
      "text/plain": [
       "<firebase_admin.App at 0x7f04910729a0>"
      ]
     },
     "execution_count": 1,
     "metadata": {},
     "output_type": "execute_result"
    }
   ],
   "source": [
    "import firebase_admin\n",
    "from firebase_admin import db\n",
    "from firebase_admin import credentials\n",
    "\n",
    "cred = credentials.Certificate(\"cowinner-20464-firebase-adminsdk-ftwj6-deb6dfd475.json\")\n",
    "firebase_admin.initialize_app(cred,\n",
    "                             {\n",
    "                                 'databaseURL':'https://cowinner-20464-default-rtdb.asia-southeast1.firebasedatabase.app/'\n",
    "                             })\n"
   ]
  },
  {
   "cell_type": "code",
   "execution_count": 2,
   "metadata": {},
   "outputs": [
    {
     "data": {
      "text/plain": [
       "{'9711370361': {'9711370361': 'true'},\n",
       " '9711370362': {'9711370362': 'true'},\n",
       " '9790706995': {'9790706995': 'true'}}"
      ]
     },
     "execution_count": 2,
     "metadata": {},
     "output_type": "execute_result"
    }
   ],
   "source": [
    "from firebase_admin import db\n",
    "ref = db.reference('regions/')\n",
    "ref.get()['Delhi']['users']"
   ]
  },
  {
   "cell_type": "code",
   "execution_count": null,
   "metadata": {},
   "outputs": [],
   "source": []
  }
 ],
 "metadata": {
  "kernelspec": {
   "display_name": "Python 3",
   "language": "python",
   "name": "python3"
  },
  "language_info": {
   "codemirror_mode": {
    "name": "ipython",
    "version": 3
   },
   "file_extension": ".py",
   "mimetype": "text/x-python",
   "name": "python",
   "nbconvert_exporter": "python",
   "pygments_lexer": "ipython3",
   "version": "3.8.5"
  }
 },
 "nbformat": 4,
 "nbformat_minor": 4
}
