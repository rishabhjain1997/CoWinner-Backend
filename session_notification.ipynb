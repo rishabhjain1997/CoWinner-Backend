{
 "cells": [
  {
   "cell_type": "code",
   "execution_count": 1,
   "metadata": {},
   "outputs": [],
   "source": [
    " def create_user_list(path):\n",
    "        import firebase_admin\n",
    "        from firebase_admin import db\n",
    "        from firebase_admin import credentials\n",
    "        cred = credentials.Certificate(\"cowinner-20464-firebase-adminsdk-ftwj6-deb6dfd475.json\")\n",
    "        firebase_admin.initialize_app(cred,\n",
    "                                     {\n",
    "                                         'databaseURL':'https://cowinner-20464-default-rtdb.asia-southeast1.firebasedatabase.app/'\n",
    "                                     })\n",
    "        ref = db.reference(path)\n",
    "        \n",
    "        return list(map(lambda phoneNumber: '91'+phoneNumber,ref.get().keys()))"
   ]
  },
  {
   "cell_type": "code",
   "execution_count": 2,
   "metadata": {},
   "outputs": [],
   "source": [
    "def send_notifications(user_list, message):\n",
    "    import wati_auth \n",
    "    import requests\n",
    "    headers = {\n",
    "        'accept': '*/*',\n",
    "        'Authorization': wati_auth.access_token,\n",
    "        'Content-Type': 'application/json-patch+json',\n",
    "    }\n",
    "    \n",
    "    responses = []\n",
    "    for user in user_list: \n",
    "        send_message_endpoint = wati_auth.base_url + '/api/v1/sendSessionMessage/' + str(user)\n",
    "        response = requests.post(send_message_endpoint+'?messageText='+message, headers=headers)\n",
    "        responses.append({user: response.json()})\n",
    "    return responses"
   ]
  },
  {
   "cell_type": "code",
   "execution_count": 3,
   "metadata": {},
   "outputs": [],
   "source": [
    "user_list = create_user_list('users/')\n",
    "message_notification = 'Hi,\\n\\nYour 24-hour session with our service is about to expire. Please send us *ok* to keep receiving alerts for the next 24 hours.\\n\\n_If you like our service, please spread the word. Tag us on FB/IG @cowinner.app_\\n\\nThank you. Stay safe!' \n",
    "notification_responses = send_notifications(user_list, message_notification)"
   ]
  },
  {
   "cell_type": "markdown",
   "metadata": {},
   "source": [
    "Sample CRON to run at 6PM-\n",
    "33 12 * * * cd ~/Desktop && /usr/bin/python3.7 session_notification.py"
   ]
  },
  {
   "cell_type": "code",
   "execution_count": 3,
   "metadata": {},
   "outputs": [
    {
     "data": {
      "text/plain": [
       "['919711370363', '919711370364', '919818573604']"
      ]
     },
     "execution_count": 3,
     "metadata": {},
     "output_type": "execute_result"
    }
   ],
   "source": [
    "user_list = create_user_list('users/')\n",
    "user_list"
   ]
  },
  {
   "cell_type": "code",
   "execution_count": null,
   "metadata": {},
   "outputs": [],
   "source": []
  }
 ],
 "metadata": {
  "kernelspec": {
   "display_name": "Python 3",
   "language": "python",
   "name": "python3"
  },
  "language_info": {
   "codemirror_mode": {
    "name": "ipython",
    "version": 3
   },
   "file_extension": ".py",
   "mimetype": "text/x-python",
   "name": "python",
   "nbconvert_exporter": "python",
   "pygments_lexer": "ipython3",
   "version": "3.8.5"
  }
 },
 "nbformat": 4,
 "nbformat_minor": 4
}
